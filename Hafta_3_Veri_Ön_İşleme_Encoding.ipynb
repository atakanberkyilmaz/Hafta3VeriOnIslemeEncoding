{
  "nbformat": 4,
  "nbformat_minor": 0,
  "metadata": {
    "colab": {
      "provenance": [],
      "collapsed_sections": [
        "7uc6KwkKxUn8"
      ],
      "include_colab_link": true
    },
    "kernelspec": {
      "name": "python3",
      "display_name": "Python 3"
    },
    "language_info": {
      "name": "python"
    }
  },
  "cells": [
    {
      "cell_type": "markdown",
      "metadata": {
        "id": "view-in-github",
        "colab_type": "text"
      },
      "source": [
        "<a href=\"https://colab.research.google.com/github/atakanberkyilmaz/Hafta3VeriOnIslemeEncoding/blob/main/Hafta_3_Veri_%C3%96n_%C4%B0%C5%9Fleme_Encoding.ipynb\" target=\"_parent\"><img src=\"https://colab.research.google.com/assets/colab-badge.svg\" alt=\"Open In Colab\"/></a>"
      ]
    },
    {
      "cell_type": "code",
      "execution_count": null,
      "metadata": {
        "id": "XpEAQbv2bCYS"
      },
      "outputs": [],
      "source": []
    },
    {
      "cell_type": "markdown",
      "source": [
        "# Veri Ön işleme; Encoding; Kayıp veri analizi"
      ],
      "metadata": {
        "id": "7uc6KwkKxUn8"
      }
    },
    {
      "cell_type": "code",
      "source": [
        "#Liste 6.1\n",
        "import pandas as pd\n",
        "import numpy as np\n",
        "from google.colab import drive\n",
        "drive.mount('/content/drive')\n",
        "%cd /content/drive/MyDrive/Colab\\ Notebooks\n",
        "veriseti = pd.read_excel('VeriOnIsleme.xlsx', 'Sayfa1')"
      ],
      "metadata": {
        "id": "fvSBBYx2xc3D",
        "colab": {
          "base_uri": "https://localhost:8080/"
        },
        "outputId": "abdbdc5d-b15b-4ff8-d197-0e83baace2ee"
      },
      "execution_count": null,
      "outputs": [
        {
          "output_type": "stream",
          "name": "stdout",
          "text": [
            "Drive already mounted at /content/drive; to attempt to forcibly remount, call drive.mount(\"/content/drive\", force_remount=True).\n",
            "/content/drive/MyDrive/Colab Notebooks\n"
          ]
        },
        {
          "output_type": "stream",
          "name": "stderr",
          "text": [
            "/usr/local/lib/python3.10/dist-packages/openpyxl/worksheet/_reader.py:329: UserWarning: Unknown extension is not supported and will be removed\n",
            "  warn(msg)\n"
          ]
        }
      ]
    },
    {
      "cell_type": "code",
      "source": [
        "#Liste 6.2\n",
        "X = veriseti.iloc[:, :-1].values\n",
        "y = veriseti.iloc[:, 5].values"
      ],
      "metadata": {
        "id": "wkis4adIyKA2"
      },
      "execution_count": null,
      "outputs": []
    },
    {
      "cell_type": "code",
      "source": [
        "#Liste 6.3\n",
        "from sklearn.impute import SimpleImputer\n",
        "yaklasikDeger= SimpleImputer(missing_values=np.nan, strategy='mean')"
      ],
      "metadata": {
        "id": "GFzkVGxGyNVL"
      },
      "execution_count": null,
      "outputs": []
    },
    {
      "cell_type": "code",
      "source": [
        "#Liste 6.4\n",
        "yaklasikDeger=yaklasikDeger.fit(X[:,1:6])\n",
        "X[:,1:6]=yaklasikDeger.transform(X[:,1:6])\n",
        "print(X)\n",
        "print(yaklasikDeger.statistics_)"
      ],
      "metadata": {
        "id": "QANESg6FydPk",
        "colab": {
          "base_uri": "https://localhost:8080/"
        },
        "outputId": "08a07a50-e5a9-4db0-f9a7-d0f3a5b41c16"
      },
      "execution_count": null,
      "outputs": [
        {
          "output_type": "stream",
          "name": "stdout",
          "text": [
            "[['Ev' 136861.0 87.0 1075.6 7.9]\n",
            " ['Ev' 178000.0 50.8 515.2 2.9]\n",
            " ['Ev' 156534.0 58.4 909.0692307692308 4.0]\n",
            " ['Otel' 62370.0 110.1 517.0 8.3]\n",
            " ['Otel' 204900.0 98.9 1540.3 6.315384615384616]\n",
            " ['Ofis' 105505.0 104.1 902.1 8.5]\n",
            " ['Ofis' 374958.0 65.0 1891.7 6.2]\n",
            " ['Otel' 93150.0 82.57692307692307 672.1 7.2]\n",
            " ['Ev' 214543.0 39.3 561.6 2.7]\n",
            " ['Ofis' 81986.0 65.4 390.5 4.8]\n",
            " ['Ofis' 71900.0 99.3 553.4 7.7]\n",
            " ['Ofis' 152532.0 84.1 949.8 6.2]\n",
            " ['Otel' 190440.0 113.8 1483.3 7.8]\n",
            " ['Ofis' 97230.0 97.3 765.3 7.9]]\n",
            "[1.51493500e+05 8.25769231e+01 9.09069231e+02 6.31538462e+00]\n"
          ]
        }
      ]
    },
    {
      "cell_type": "code",
      "source": [
        "#Liste 6.5\n",
        "import pandas as pd\n",
        "X = veriseti.iloc[:, :-1].values\n",
        "y = veriseti.iloc[:, 5].values\n",
        "from sklearn.impute import SimpleImputer\n",
        "yaklasikDeger= SimpleImputer(missing_values=np.nan, strategy='mean')\n",
        "yaklasikDeger=yaklasikDeger.fit(X[:,1:6])\n",
        "X[:,1:6]=yaklasikDeger.transform(X[:,1:6])\n",
        "print(X)\n",
        "print(yaklasikDeger.statistics_)"
      ],
      "metadata": {
        "id": "bE7zuX8EylZM",
        "colab": {
          "base_uri": "https://localhost:8080/"
        },
        "outputId": "1e73988d-9d8c-46b2-ee29-1f6e58681e1c"
      },
      "execution_count": null,
      "outputs": [
        {
          "output_type": "stream",
          "name": "stdout",
          "text": [
            "[['Ev' 136861.0 87.0 1075.6 7.9]\n",
            " ['Ev' 178000.0 50.8 515.2 2.9]\n",
            " ['Ev' 156534.0 58.4 909.0692307692308 4.0]\n",
            " ['Otel' 62370.0 110.1 517.0 8.3]\n",
            " ['Otel' 204900.0 98.9 1540.3 6.315384615384616]\n",
            " ['Ofis' 105505.0 104.1 902.1 8.5]\n",
            " ['Ofis' 374958.0 65.0 1891.7 6.2]\n",
            " ['Otel' 93150.0 82.57692307692307 672.1 7.2]\n",
            " ['Ev' 214543.0 39.3 561.6 2.7]\n",
            " ['Ofis' 81986.0 65.4 390.5 4.8]\n",
            " ['Ofis' 71900.0 99.3 553.4 7.7]\n",
            " ['Ofis' 152532.0 84.1 949.8 6.2]\n",
            " ['Otel' 190440.0 113.8 1483.3 7.8]\n",
            " ['Ofis' 97230.0 97.3 765.3 7.9]]\n",
            "[1.51493500e+05 8.25769231e+01 9.09069231e+02 6.31538462e+00]\n"
          ]
        }
      ]
    },
    {
      "cell_type": "code",
      "source": [
        "#Liste 6.6\n",
        "import pandas as pd\n",
        "from sklearn.preprocessing import LabelEncoder\n",
        "veriseti = pd.read_excel('VeriOnIsleme.xlsx', 'Sayfa1')\n",
        "\n",
        "X = veriseti.iloc[:, :-1].values\n",
        "y = veriseti.iloc[:, 5].values"
      ],
      "metadata": {
        "id": "koMXlnPk0O9d",
        "colab": {
          "base_uri": "https://localhost:8080/"
        },
        "outputId": "7a64bba6-fa53-4764-b212-f7b7d1a08079"
      },
      "execution_count": null,
      "outputs": [
        {
          "output_type": "stream",
          "name": "stderr",
          "text": [
            "/usr/local/lib/python3.10/dist-packages/openpyxl/worksheet/_reader.py:329: UserWarning: Unknown extension is not supported and will be removed\n",
            "  warn(msg)\n"
          ]
        }
      ]
    },
    {
      "cell_type": "code",
      "source": [
        "#Liste 6.7\n",
        "labelencoder_X = LabelEncoder()\n",
        "X[:, 0] = labelencoder_X.fit_transform(X[:, 0])\n",
        "print (X)"
      ],
      "metadata": {
        "id": "kNYNjqqd0h_8",
        "colab": {
          "base_uri": "https://localhost:8080/"
        },
        "outputId": "e29ffae9-dbb7-4eaa-a9db-d5fc0f72c30c"
      },
      "execution_count": null,
      "outputs": [
        {
          "output_type": "stream",
          "name": "stdout",
          "text": [
            "[[0 136861 87.0 1075.6 7.9]\n",
            " [0 178000 50.8 515.2 2.9]\n",
            " [0 156534 58.4 nan 4.0]\n",
            " [2 62370 110.1 517.0 8.3]\n",
            " [2 204900 98.9 1540.3 nan]\n",
            " [1 105505 104.1 902.1 8.5]\n",
            " [1 374958 65.0 1891.7 6.2]\n",
            " [2 93150 nan 672.1 7.2]\n",
            " [0 214543 39.3 561.6 2.7]\n",
            " [1 81986 65.4 390.5 4.8]\n",
            " [1 71900 99.3 553.4 7.7]\n",
            " [1 152532 84.1 949.8 6.2]\n",
            " [2 190440 113.8 1483.3 7.8]\n",
            " [1 97230 97.3 765.3 7.9]]\n"
          ]
        }
      ]
    },
    {
      "cell_type": "code",
      "source": [
        "#Liste 6.8\n",
        "import pandas as pd\n",
        "from sklearn.preprocessing import LabelEncoder\n",
        "from sklearn.preprocessing import OneHotEncoder\n",
        "from sklearn.compose import ColumnTransformer\n",
        "veriseti = pd.read_excel('VeriOnIsleme.xlsx', 'Sayfa1')\n",
        "\n",
        "X = veriseti.iloc[:, :-1].values\n",
        "y = veriseti.iloc[:, 5].values\n",
        "\n",
        "labelencoder_X = LabelEncoder()\n",
        "X[:, 0] = labelencoder_X.fit_transform(X[:, 0])\n",
        "\n",
        "columnTransformer_X = ColumnTransformer([('encoder', OneHotEncoder(), [0])], remainder='passthrough')\n",
        "X = columnTransformer_X.fit_transform(X)\n",
        "\n",
        "print (X)"
      ],
      "metadata": {
        "id": "6Pn4BtOH0vJ9",
        "colab": {
          "base_uri": "https://localhost:8080/"
        },
        "outputId": "ac1f18f3-2a29-477e-f13d-6e88b546af8a"
      },
      "execution_count": null,
      "outputs": [
        {
          "output_type": "stream",
          "name": "stdout",
          "text": [
            "[[1.0 0.0 0.0 136861 87.0 1075.6 7.9]\n",
            " [1.0 0.0 0.0 178000 50.8 515.2 2.9]\n",
            " [1.0 0.0 0.0 156534 58.4 nan 4.0]\n",
            " [0.0 0.0 1.0 62370 110.1 517.0 8.3]\n",
            " [0.0 0.0 1.0 204900 98.9 1540.3 nan]\n",
            " [0.0 1.0 0.0 105505 104.1 902.1 8.5]\n",
            " [0.0 1.0 0.0 374958 65.0 1891.7 6.2]\n",
            " [0.0 0.0 1.0 93150 nan 672.1 7.2]\n",
            " [1.0 0.0 0.0 214543 39.3 561.6 2.7]\n",
            " [0.0 1.0 0.0 81986 65.4 390.5 4.8]\n",
            " [0.0 1.0 0.0 71900 99.3 553.4 7.7]\n",
            " [0.0 1.0 0.0 152532 84.1 949.8 6.2]\n",
            " [0.0 0.0 1.0 190440 113.8 1483.3 7.8]\n",
            " [0.0 1.0 0.0 97230 97.3 765.3 7.9]]\n"
          ]
        },
        {
          "output_type": "stream",
          "name": "stderr",
          "text": [
            "/usr/local/lib/python3.10/dist-packages/openpyxl/worksheet/_reader.py:329: UserWarning: Unknown extension is not supported and will be removed\n",
            "  warn(msg)\n"
          ]
        }
      ]
    },
    {
      "cell_type": "code",
      "source": [
        "#Liste 6.9\n",
        "if Bina_Tipi==0:\n",
        "    print(\"Ev\")\n",
        "elif Bina_Tipi==1:\n",
        "    print(\"Ofis\")\n",
        "elif Bina_Tipi==2:\n",
        "    print(\"Otel\")"
      ],
      "metadata": {
        "id": "vHW9Zx3H2q3i",
        "colab": {
          "base_uri": "https://localhost:8080/",
          "height": 211
        },
        "outputId": "8ef6f0c5-7e16-4559-fda5-a1368bfcacce"
      },
      "execution_count": null,
      "outputs": [
        {
          "output_type": "error",
          "ename": "NameError",
          "evalue": "name 'Bina_Tipi' is not defined",
          "traceback": [
            "\u001b[0;31m---------------------------------------------------------------------------\u001b[0m",
            "\u001b[0;31mNameError\u001b[0m                                 Traceback (most recent call last)",
            "\u001b[0;32m<ipython-input-6-7838e62bf9ee>\u001b[0m in \u001b[0;36m<cell line: 2>\u001b[0;34m()\u001b[0m\n\u001b[1;32m      1\u001b[0m \u001b[0;31m#Liste 6.9\u001b[0m\u001b[0;34m\u001b[0m\u001b[0;34m\u001b[0m\u001b[0m\n\u001b[0;32m----> 2\u001b[0;31m \u001b[0;32mif\u001b[0m \u001b[0mBina_Tipi\u001b[0m\u001b[0;34m==\u001b[0m\u001b[0;36m0\u001b[0m\u001b[0;34m:\u001b[0m\u001b[0;34m\u001b[0m\u001b[0;34m\u001b[0m\u001b[0m\n\u001b[0m\u001b[1;32m      3\u001b[0m     \u001b[0mprint\u001b[0m\u001b[0;34m(\u001b[0m\u001b[0;34m\"Ev\"\u001b[0m\u001b[0;34m)\u001b[0m\u001b[0;34m\u001b[0m\u001b[0;34m\u001b[0m\u001b[0m\n\u001b[1;32m      4\u001b[0m \u001b[0;32melif\u001b[0m \u001b[0mBina_Tipi\u001b[0m\u001b[0;34m==\u001b[0m\u001b[0;36m1\u001b[0m\u001b[0;34m:\u001b[0m\u001b[0;34m\u001b[0m\u001b[0;34m\u001b[0m\u001b[0m\n\u001b[1;32m      5\u001b[0m     \u001b[0mprint\u001b[0m\u001b[0;34m(\u001b[0m\u001b[0;34m\"Ofis\"\u001b[0m\u001b[0;34m)\u001b[0m\u001b[0;34m\u001b[0m\u001b[0;34m\u001b[0m\u001b[0m\n",
            "\u001b[0;31mNameError\u001b[0m: name 'Bina_Tipi' is not defined"
          ]
        }
      ]
    }
  ]
}